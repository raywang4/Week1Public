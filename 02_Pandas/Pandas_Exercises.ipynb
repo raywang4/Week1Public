{
 "cells": [
  {
   "cell_type": "markdown",
   "source": "# Pandas Exercises",
   "metadata": {
    "colab_type": "text",
    "id": "bSU6eKZTdMXZ",
    "cell_id": "00000-a1a70b45-4173-41c3-bd0f-1c7334aedbc1",
    "deepnote_cell_type": "markdown"
   }
  },
  {
   "cell_type": "code",
   "metadata": {
    "colab_type": "code",
    "id": "c5ewTg7vdQFm",
    "colab": {},
    "cell_id": "00001-c6d0491e-81bf-48bb-9f7d-2474bd25924c",
    "deepnote_to_be_reexecuted": false,
    "source_hash": "73161b4",
    "execution_start": 1625522830394,
    "execution_millis": 4,
    "deepnote_cell_type": "code"
   },
   "source": "import pandas as pd\n\nurl = \"https://raw.githubusercontent.com/BeaverWorksMedlytics2020/Data_Public/master/NotebookExampleData/Week1/diabetes.csv\"\nnames = ['preg', 'plas', 'pres', 'skin', 'test', 'mass', 'pedi', 'age', 'class']",
   "outputs": [],
   "execution_count": null
  },
  {
   "cell_type": "markdown",
   "source": "Read in csv above to a pandas dataframe",
   "metadata": {
    "colab_type": "text",
    "id": "QOLgFaSKeShR",
    "cell_id": "00002-042a372d-c00c-4c1f-ac93-787afa44b1e9",
    "deepnote_cell_type": "markdown"
   }
  },
  {
   "cell_type": "code",
   "metadata": {
    "colab_type": "code",
    "id": "Okcb8dnXeX2C",
    "colab": {},
    "cell_id": "00003-3853efa3-180b-4c70-8be9-3a18524779a8",
    "deepnote_cell_type": "code"
   },
   "source": "# YOUR CODE HERE",
   "execution_count": null,
   "outputs": []
  },
  {
   "cell_type": "markdown",
   "source": "Print out the age and class of the 100th patient",
   "metadata": {
    "colab_type": "text",
    "id": "d4DyOsuoewE2",
    "cell_id": "00004-7ec9296d-24bf-4019-8f5a-c844c6b8cb1a",
    "deepnote_cell_type": "markdown"
   }
  },
  {
   "cell_type": "code",
   "metadata": {
    "colab_type": "code",
    "id": "xZqBsg39eY8_",
    "colab": {},
    "cell_id": "00005-0056ddb4-3287-41f8-834d-5ece93cf6909",
    "deepnote_cell_type": "code"
   },
   "source": "# YOUR CODE HERE",
   "execution_count": null,
   "outputs": []
  },
  {
   "cell_type": "markdown",
   "source": "Write code to figure out how many people are classified as not having diabetes, class is 0",
   "metadata": {
    "colab_type": "text",
    "id": "j8L2EM-5iOWc",
    "cell_id": "00006-82daaf2f-3e31-463a-9b7a-53799ab84fef",
    "deepnote_cell_type": "markdown"
   }
  },
  {
   "cell_type": "code",
   "metadata": {
    "colab_type": "code",
    "id": "vohzS51WiWvD",
    "colab": {},
    "cell_id": "00007-2d900e3b-23a6-403c-9bde-7e09d0510fcd",
    "deepnote_cell_type": "code"
   },
   "source": "# YOUR CODE HERE",
   "execution_count": null,
   "outputs": []
  },
  {
   "cell_type": "markdown",
   "source": "Write code to figure out how many people are classified as having diabetes, class is 1",
   "metadata": {
    "colab_type": "text",
    "id": "ieGRz4iiiX4E",
    "cell_id": "00008-389ce810-0027-4af4-b4bf-a5bdc38c1573",
    "deepnote_cell_type": "markdown"
   }
  },
  {
   "cell_type": "code",
   "metadata": {
    "colab_type": "code",
    "id": "-jq2O-vriXRT",
    "colab": {},
    "cell_id": "00009-5eb55bcc-0b10-4a59-a3de-fad689a23fe1",
    "deepnote_cell_type": "code"
   },
   "source": "# YOUR CODE HERE",
   "execution_count": null,
   "outputs": []
  },
  {
   "cell_type": "markdown",
   "source": "What percent of people have diabetes in the study",
   "metadata": {
    "colab_type": "text",
    "id": "oeFT7T9OnuSd",
    "cell_id": "00010-31b5f7c6-ea56-457b-ae9c-72ab86c5c567",
    "deepnote_cell_type": "markdown"
   }
  },
  {
   "cell_type": "code",
   "metadata": {
    "colab_type": "code",
    "id": "zGGHptFYnwq0",
    "colab": {},
    "cell_id": "00011-a33c8893-4cbc-42b5-898d-e3115c13e329",
    "deepnote_cell_type": "code"
   },
   "source": "# YOUR CODE HERE",
   "execution_count": null,
   "outputs": []
  },
  {
   "cell_type": "markdown",
   "source": "Print out the `\"pres\"` and `\"class\"` (no other columns) for the first 5 people",
   "metadata": {
    "colab_type": "text",
    "id": "nbrjnRPafs0p",
    "cell_id": "00012-5080ee0d-b515-4ca1-954d-63144b849480",
    "deepnote_cell_type": "markdown"
   }
  },
  {
   "cell_type": "code",
   "metadata": {
    "colab_type": "code",
    "id": "GiNCJ19KfHJQ",
    "colab": {},
    "cell_id": "00013-52905732-b305-424f-98c1-182e4ababc0c",
    "deepnote_cell_type": "code"
   },
   "source": "# YOUR CODE HERE",
   "execution_count": null,
   "outputs": []
  },
  {
   "cell_type": "markdown",
   "source": "Run the cell below, it will print out the correlation among the columns",
   "metadata": {
    "colab_type": "text",
    "id": "O-CcsoqlhxUn",
    "cell_id": "00014-f3aad72a-9f72-4fb7-9d82-8d10b502d48a",
    "deepnote_cell_type": "markdown"
   }
  },
  {
   "cell_type": "code",
   "metadata": {
    "colab_type": "code",
    "id": "pXpVFt6MffQt",
    "colab": {},
    "cell_id": "00015-2172a85f-0f52-484b-a29e-5c3e48658917",
    "deepnote_cell_type": "code"
   },
   "source": "data.corr()",
   "execution_count": null,
   "outputs": []
  },
  {
   "cell_type": "markdown",
   "source": "What column has the highest correlation with class? Find the mean() value of that column",
   "metadata": {
    "colab_type": "text",
    "id": "P_7xRF11h4Uf",
    "cell_id": "00016-c6dc3dd2-3401-45f6-82f1-9b8d3db94077",
    "deepnote_cell_type": "markdown"
   }
  },
  {
   "cell_type": "code",
   "metadata": {
    "colab_type": "code",
    "id": "clb2Gh8Mn9d4",
    "colab": {},
    "cell_id": "00017-b1dcf134-97de-42fa-ac10-96fe97db8e2c",
    "deepnote_cell_type": "code"
   },
   "source": "# YOUR CODE HERE",
   "execution_count": null,
   "outputs": []
  },
  {
   "cell_type": "markdown",
   "source": "Create a new dataframe with only people that are above the mean found in the above cell.",
   "metadata": {
    "colab_type": "text",
    "id": "64yWhAARoWw-",
    "cell_id": "00018-fd63fcb2-c10a-4a26-b428-e30348fe833a",
    "deepnote_cell_type": "markdown"
   }
  },
  {
   "cell_type": "code",
   "metadata": {
    "colab_type": "code",
    "id": "HRLjs3agkdPY",
    "colab": {},
    "cell_id": "00019-8b938a90-7bd5-4ba2-92f1-4df4ffc190e0",
    "deepnote_cell_type": "code"
   },
   "source": "# YOUR CODE HERE",
   "execution_count": null,
   "outputs": []
  },
  {
   "cell_type": "markdown",
   "source": "Create a new dataframe that only includes people who are above the average value for each column in the dataset. In other words, find the average value for each column, and then find which users have values above all of these average column values.",
   "metadata": {
    "colab_type": "text",
    "id": "RxGIQp0JrUnq",
    "cell_id": "00020-d5d0c3ea-9655-4aa2-97dd-4bf3a09e357f",
    "deepnote_cell_type": "markdown"
   }
  },
  {
   "cell_type": "code",
   "metadata": {
    "colab_type": "code",
    "id": "Ylf4p6NNrfME",
    "colab": {},
    "cell_id": "00021-064e8e41-d624-434c-a65a-392e463c840e",
    "deepnote_cell_type": "code"
   },
   "source": "# YOUR CODE HERE",
   "execution_count": null,
   "outputs": []
  },
  {
   "cell_type": "markdown",
   "source": "*Note: the next 3 problems were not explicitly shown in our tutorial—being able to effectively google and look through documentation is a very important coding tool!* ¯\\\\\\_(ツ)_/¯",
   "metadata": {
    "id": "Cy_6ce7_8qAB",
    "colab_type": "text",
    "cell_id": "00022-a1b28b03-6953-469c-a45d-80d21b3d36f6",
    "deepnote_cell_type": "markdown"
   }
  },
  {
   "cell_type": "markdown",
   "source": "Ignoring the index (resetting the index to 0) and using the dataframe from the cell above, sort the values based on `\"skin\"`, `\"test\"`, and `\"pedi\"` values in ascending order. Please write this in one line.",
   "metadata": {
    "colab_type": "text",
    "id": "24pCgP2xbCwZ",
    "cell_id": "00023-818ed759-16d8-4469-8fcb-19c412faa4c9",
    "deepnote_cell_type": "markdown"
   }
  },
  {
   "cell_type": "code",
   "metadata": {
    "colab_type": "code",
    "id": "wXZysbVwa7i5",
    "colab": {},
    "cell_id": "00024-1c8fa3ef-1628-44ef-bef7-554c548fea45",
    "deepnote_cell_type": "code"
   },
   "source": "# YOUR CODE HERE",
   "execution_count": null,
   "outputs": []
  },
  {
   "cell_type": "markdown",
   "source": "Now let's find the 4 largest values for `\"age\"`",
   "metadata": {
    "colab_type": "text",
    "id": "BIJkXsK4ch-u",
    "cell_id": "00025-31c03cc1-a702-4c90-89f0-dab8fb9b51bf",
    "deepnote_cell_type": "markdown"
   }
  },
  {
   "cell_type": "code",
   "metadata": {
    "colab_type": "code",
    "id": "kSl28jLLdAF9",
    "colab": {},
    "cell_id": "00026-9728e4ca-d0d3-4d8c-a818-707a90e9e5d3",
    "deepnote_cell_type": "code"
   },
   "source": "# YOUR CODE HERE",
   "execution_count": null,
   "outputs": []
  },
  {
   "cell_type": "markdown",
   "source": "Now find the smallest 4 values for `\"pedi\"` and `\"plas\"` in reverse order (smallest to largest).",
   "metadata": {
    "colab_type": "text",
    "id": "fJRwe8UfqvNG",
    "cell_id": "00027-a5e12cb1-a313-47bf-9640-256181c460ad",
    "deepnote_cell_type": "markdown"
   }
  },
  {
   "cell_type": "code",
   "metadata": {
    "colab_type": "code",
    "id": "icQcbPg1quNI",
    "colab": {},
    "cell_id": "00028-2add4c0a-65b7-424e-a4d9-756817979e60",
    "deepnote_cell_type": "code"
   },
   "source": "# YOUR CODE HERE",
   "execution_count": null,
   "outputs": []
  },
  {
   "cell_type": "markdown",
   "source": "<a style='text-decoration:none;line-height:16px;display:flex;color:#5B5B62;padding:10px;justify-content:end;' href='https://deepnote.com?utm_source=created-in-deepnote-cell&projectId=c44b01fc-9073-4c1c-996f-0419eafddc5d' target=\"_blank\">\n<img alt='Created in deepnote.com' style='display:inline;max-height:16px;margin:0px;margin-right:7.5px;' src='data:image/svg+xml;base64,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' > </img>\nCreated in <span style='font-weight:600;margin-left:4px;'>Deepnote</span></a>",
   "metadata": {
    "tags": [],
    "created_in_deepnote_cell": true,
    "deepnote_cell_type": "markdown"
   }
  }
 ],
 "nbformat": 4,
 "nbformat_minor": 0,
 "metadata": {
  "colab": {
   "name": "Pandas_Exercises",
   "provenance": [],
   "collapsed_sections": []
  },
  "kernelspec": {
   "display_name": "Python 3",
   "language": "python",
   "name": "python3"
  },
  "language_info": {
   "codemirror_mode": {
    "name": "ipython",
    "version": 3
   },
   "file_extension": ".py",
   "mimetype": "text/x-python",
   "name": "python",
   "nbconvert_exporter": "python",
   "pygments_lexer": "ipython3",
   "version": "3.7.3"
  },
  "deepnote_notebook_id": "86faf811-6ae2-4018-b15f-d354237ab127",
  "deepnote": {},
  "deepnote_execution_queue": []
 }
}